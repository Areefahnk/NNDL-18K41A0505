{
  "nbformat": 4,
  "nbformat_minor": 0,
  "metadata": {
    "colab": {
      "name": "Assignment 03 SGD.ipynb",
      "provenance": [],
      "mount_file_id": "1EpSrgrCOoIcSDIuka70SUp0ivJbjSa_U",
      "authorship_tag": "ABX9TyO6dqmeJLPsU6y9WAKmLSkC",
      "include_colab_link": true
    },
    "kernelspec": {
      "name": "python3",
      "display_name": "Python 3"
    },
    "language_info": {
      "name": "python"
    }
  },
  "cells": [
    {
      "cell_type": "markdown",
      "metadata": {
        "id": "view-in-github",
        "colab_type": "text"
      },
      "source": [
        "<a href=\"https://colab.research.google.com/github/Areefahnk/NNDL-18K41A0505/blob/main/Assignment_03_SGD.ipynb\" target=\"_parent\"><img src=\"https://colab.research.google.com/assets/colab-badge.svg\" alt=\"Open In Colab\"/></a>"
      ]
    },
    {
      "cell_type": "markdown",
      "metadata": {
        "id": "6cx0W6CQzW-x"
      },
      "source": [
        "**Simple Linear Regression Model using Stochastic Gradient Descent Optimizer**\n",
        "\n",
        "**By - Areefa (18K41A0505)**"
      ]
    },
    {
      "cell_type": "code",
      "metadata": {
        "id": "BcPvYjQTd-BT"
      },
      "source": [
        "import sympy as sym\n",
        "from sympy import *\n",
        "import random"
      ],
      "execution_count": 290,
      "outputs": []
    },
    {
      "cell_type": "markdown",
      "metadata": {
        "id": "Ke5J4N9FedIk"
      },
      "source": [
        "**Simple Linear Refression Model using Stochastic Gradient Descent Optimizer**"
      ]
    },
    {
      "cell_type": "code",
      "metadata": {
        "colab": {
          "base_uri": "https://localhost:8080/",
          "height": 173
        },
        "id": "PZKD37mwd-oH",
        "outputId": "69cd7c57-4db3-4f04-8aef-17a03e17d6e4"
      },
      "source": [
        "import pandas as pd\n",
        "df = pd.read_excel('/content/drive/MyDrive/samples.xlsx')\n",
        "df"
      ],
      "execution_count": 291,
      "outputs": [
        {
          "output_type": "execute_result",
          "data": {
            "text/html": [
              "<div>\n",
              "<style scoped>\n",
              "    .dataframe tbody tr th:only-of-type {\n",
              "        vertical-align: middle;\n",
              "    }\n",
              "\n",
              "    .dataframe tbody tr th {\n",
              "        vertical-align: top;\n",
              "    }\n",
              "\n",
              "    .dataframe thead th {\n",
              "        text-align: right;\n",
              "    }\n",
              "</style>\n",
              "<table border=\"1\" class=\"dataframe\">\n",
              "  <thead>\n",
              "    <tr style=\"text-align: right;\">\n",
              "      <th></th>\n",
              "      <th>sample</th>\n",
              "      <th>x</th>\n",
              "      <th>y</th>\n",
              "    </tr>\n",
              "  </thead>\n",
              "  <tbody>\n",
              "    <tr>\n",
              "      <th>0</th>\n",
              "      <td>1</td>\n",
              "      <td>0.2</td>\n",
              "      <td>3.4</td>\n",
              "    </tr>\n",
              "    <tr>\n",
              "      <th>1</th>\n",
              "      <td>2</td>\n",
              "      <td>0.4</td>\n",
              "      <td>3.8</td>\n",
              "    </tr>\n",
              "    <tr>\n",
              "      <th>2</th>\n",
              "      <td>3</td>\n",
              "      <td>0.6</td>\n",
              "      <td>4.2</td>\n",
              "    </tr>\n",
              "    <tr>\n",
              "      <th>3</th>\n",
              "      <td>4</td>\n",
              "      <td>0.8</td>\n",
              "      <td>4.6</td>\n",
              "    </tr>\n",
              "  </tbody>\n",
              "</table>\n",
              "</div>"
            ],
            "text/plain": [
              "   sample    x    y\n",
              "0       1  0.2  3.4\n",
              "1       2  0.4  3.8\n",
              "2       3  0.6  4.2\n",
              "3       4  0.8  4.6"
            ]
          },
          "metadata": {
            "tags": []
          },
          "execution_count": 291
        }
      ]
    },
    {
      "cell_type": "code",
      "metadata": {
        "colab": {
          "base_uri": "https://localhost:8080/",
          "height": 173
        },
        "id": "0guSTFDBeIx5",
        "outputId": "b45c50e9-d252-4308-9747-7b4e597efbaf"
      },
      "source": [
        "df"
      ],
      "execution_count": 292,
      "outputs": [
        {
          "output_type": "execute_result",
          "data": {
            "text/html": [
              "<div>\n",
              "<style scoped>\n",
              "    .dataframe tbody tr th:only-of-type {\n",
              "        vertical-align: middle;\n",
              "    }\n",
              "\n",
              "    .dataframe tbody tr th {\n",
              "        vertical-align: top;\n",
              "    }\n",
              "\n",
              "    .dataframe thead th {\n",
              "        text-align: right;\n",
              "    }\n",
              "</style>\n",
              "<table border=\"1\" class=\"dataframe\">\n",
              "  <thead>\n",
              "    <tr style=\"text-align: right;\">\n",
              "      <th></th>\n",
              "      <th>sample</th>\n",
              "      <th>x</th>\n",
              "      <th>y</th>\n",
              "    </tr>\n",
              "  </thead>\n",
              "  <tbody>\n",
              "    <tr>\n",
              "      <th>0</th>\n",
              "      <td>1</td>\n",
              "      <td>0.2</td>\n",
              "      <td>3.4</td>\n",
              "    </tr>\n",
              "    <tr>\n",
              "      <th>1</th>\n",
              "      <td>2</td>\n",
              "      <td>0.4</td>\n",
              "      <td>3.8</td>\n",
              "    </tr>\n",
              "    <tr>\n",
              "      <th>2</th>\n",
              "      <td>3</td>\n",
              "      <td>0.6</td>\n",
              "      <td>4.2</td>\n",
              "    </tr>\n",
              "    <tr>\n",
              "      <th>3</th>\n",
              "      <td>4</td>\n",
              "      <td>0.8</td>\n",
              "      <td>4.6</td>\n",
              "    </tr>\n",
              "  </tbody>\n",
              "</table>\n",
              "</div>"
            ],
            "text/plain": [
              "   sample    x    y\n",
              "0       1  0.2  3.4\n",
              "1       2  0.4  3.8\n",
              "2       3  0.6  4.2\n",
              "3       4  0.8  4.6"
            ]
          },
          "metadata": {
            "tags": []
          },
          "execution_count": 292
        }
      ]
    },
    {
      "cell_type": "markdown",
      "metadata": {
        "id": "s1ENBrRxeqzS"
      },
      "source": [
        "**STEP 2 Missing Values treatment**"
      ]
    },
    {
      "cell_type": "markdown",
      "metadata": {
        "id": "PD2IzVeCvNus"
      },
      "source": [
        "**Found no missing values after visualizing datset**"
      ]
    },
    {
      "cell_type": "code",
      "metadata": {
        "colab": {
          "base_uri": "https://localhost:8080/",
          "height": 297
        },
        "id": "3VhPGnw5vAOt",
        "outputId": "46160553-41f2-418f-c73c-69fd106aa8d2"
      },
      "source": [
        "import matplotlib.pyplot as plt\n",
        "import seaborn as sns\n",
        "def get_heatmap(df):\n",
        "    #This function gives heatmap of all NaN values\n",
        "    plt.figure(figsize=(6,4))\n",
        "    sns.heatmap(df.isnull(), yticklabels=False, cbar=False, cmap='viridis')\n",
        "    plt.tight_layout()\n",
        "    return plt.show()\n",
        "\n",
        "get_heatmap(df)"
      ],
      "execution_count": 293,
      "outputs": [
        {
          "output_type": "display_data",
          "data": {
            "image/png": "[encoded data removed]",
            "text/plain": [
              "<Figure size 432x288 with 1 Axes>"
            ]
          },
          "metadata": {
            "tags": [],
            "needs_background": "light"
          }
        }
      ]
    },
    {
      "cell_type": "code",
      "metadata": {
        "colab": {
          "base_uri": "https://localhost:8080/",
          "height": 173
        },
        "id": "ZKtxUDb2fIHq",
        "outputId": "2027bffb-7c01-4241-95dd-5ce4df0ca4f5"
      },
      "source": [
        "df"
      ],
      "execution_count": 294,
      "outputs": [
        {
          "output_type": "execute_result",
          "data": {
            "text/html": [
              "<div>\n",
              "<style scoped>\n",
              "    .dataframe tbody tr th:only-of-type {\n",
              "        vertical-align: middle;\n",
              "    }\n",
              "\n",
              "    .dataframe tbody tr th {\n",
              "        vertical-align: top;\n",
              "    }\n",
              "\n",
              "    .dataframe thead th {\n",
              "        text-align: right;\n",
              "    }\n",
              "</style>\n",
              "<table border=\"1\" class=\"dataframe\">\n",
              "  <thead>\n",
              "    <tr style=\"text-align: right;\">\n",
              "      <th></th>\n",
              "      <th>sample</th>\n",
              "      <th>x</th>\n",
              "      <th>y</th>\n",
              "    </tr>\n",
              "  </thead>\n",
              "  <tbody>\n",
              "    <tr>\n",
              "      <th>0</th>\n",
              "      <td>1</td>\n",
              "      <td>0.2</td>\n",
              "      <td>3.4</td>\n",
              "    </tr>\n",
              "    <tr>\n",
              "      <th>1</th>\n",
              "      <td>2</td>\n",
              "      <td>0.4</td>\n",
              "      <td>3.8</td>\n",
              "    </tr>\n",
              "    <tr>\n",
              "      <th>2</th>\n",
              "      <td>3</td>\n",
              "      <td>0.6</td>\n",
              "      <td>4.2</td>\n",
              "    </tr>\n",
              "    <tr>\n",
              "      <th>3</th>\n",
              "      <td>4</td>\n",
              "      <td>0.8</td>\n",
              "      <td>4.6</td>\n",
              "    </tr>\n",
              "  </tbody>\n",
              "</table>\n",
              "</div>"
            ],
            "text/plain": [
              "   sample    x    y\n",
              "0       1  0.2  3.4\n",
              "1       2  0.4  3.8\n",
              "2       3  0.6  4.2\n",
              "3       4  0.8  4.6"
            ]
          },
          "metadata": {
            "tags": []
          },
          "execution_count": 294
        }
      ]
    },
    {
      "cell_type": "markdown",
      "metadata": {
        "id": "Div3YTiNf4xd"
      },
      "source": [
        "**STEP 3: Outlier Data Treatment**"
      ]
    },
    {
      "cell_type": "code",
      "metadata": {
        "colab": {
          "base_uri": "https://localhost:8080/",
          "height": 173
        },
        "id": "o8e-K0J0fLEP",
        "outputId": "87e7d937-5d6b-41c2-f9da-22c2543b4361"
      },
      "source": [
        "import numpy as np\n",
        "#df = pd.DataFrame({'Data':np.random.normal(size=200)})\n",
        "# example dataset of normally distributed data. \n",
        "\n",
        "#df[np.abs(df.sample-df.sample.mean()) <= (3*df.sample.std())]\n",
        "# keep only the ones that are within +3 to -3 standard deviations in the column 'sample'.\n",
        "df[np.abs(df.x-df.x.mean()) <= (3*df.x.std())]\n",
        "# keep only the ones that are within +3 to -3 standard deviations in the column 'x'.\n",
        "df[np.abs(df.y-df.y.mean()) <= (3*df.y.std())]\n",
        "# keep only the ones that are within +3 to -3 standard deviations in the column 'y'.\n",
        "\n",
        "#df[~(np.abs(df.x-df.x.mean()) > (3*df.x.std()))]\n",
        "# or if you prefer the other way around"
      ],
      "execution_count": 295,
      "outputs": [
        {
          "output_type": "execute_result",
          "data": {
            "text/html": [
              "<div>\n",
              "<style scoped>\n",
              "    .dataframe tbody tr th:only-of-type {\n",
              "        vertical-align: middle;\n",
              "    }\n",
              "\n",
              "    .dataframe tbody tr th {\n",
              "        vertical-align: top;\n",
              "    }\n",
              "\n",
              "    .dataframe thead th {\n",
              "        text-align: right;\n",
              "    }\n",
              "</style>\n",
              "<table border=\"1\" class=\"dataframe\">\n",
              "  <thead>\n",
              "    <tr style=\"text-align: right;\">\n",
              "      <th></th>\n",
              "      <th>sample</th>\n",
              "      <th>x</th>\n",
              "      <th>y</th>\n",
              "    </tr>\n",
              "  </thead>\n",
              "  <tbody>\n",
              "    <tr>\n",
              "      <th>0</th>\n",
              "      <td>1</td>\n",
              "      <td>0.2</td>\n",
              "      <td>3.4</td>\n",
              "    </tr>\n",
              "    <tr>\n",
              "      <th>1</th>\n",
              "      <td>2</td>\n",
              "      <td>0.4</td>\n",
              "      <td>3.8</td>\n",
              "    </tr>\n",
              "    <tr>\n",
              "      <th>2</th>\n",
              "      <td>3</td>\n",
              "      <td>0.6</td>\n",
              "      <td>4.2</td>\n",
              "    </tr>\n",
              "    <tr>\n",
              "      <th>3</th>\n",
              "      <td>4</td>\n",
              "      <td>0.8</td>\n",
              "      <td>4.6</td>\n",
              "    </tr>\n",
              "  </tbody>\n",
              "</table>\n",
              "</div>"
            ],
            "text/plain": [
              "   sample    x    y\n",
              "0       1  0.2  3.4\n",
              "1       2  0.4  3.8\n",
              "2       3  0.6  4.2\n",
              "3       4  0.8  4.6"
            ]
          },
          "metadata": {
            "tags": []
          },
          "execution_count": 295
        }
      ]
    },
    {
      "cell_type": "markdown",
      "metadata": {
        "id": "uD53Yr3cgC3J"
      },
      "source": [
        "**NORMALIZATION - MIN MAX SCALING**"
      ]
    },
    {
      "cell_type": "code",
      "metadata": {
        "colab": {
          "base_uri": "https://localhost:8080/",
          "height": 173
        },
        "id": "Va8YhXXaf8QB",
        "outputId": "32990ed9-e71f-4198-85d7-018603d8343b"
      },
      "source": [
        "def min_max_scaling(df):\n",
        "  df_norm = df.copy()\n",
        "  #apply min max scaling\n",
        "  ct=0\n",
        "  for column in df_norm.columns:\n",
        "    if ct==0: #to skip normalization for the sample number column\n",
        "      ct=1\n",
        "    else:\n",
        "      df_norm[column]=(df_norm[column]-df_norm[column].min())/(df_norm[column].max()-df_norm[column].min())\n",
        "  return df_norm\n",
        "\n",
        "df_norm = min_max_scaling(df)\n",
        "df_norm"
      ],
      "execution_count": 296,
      "outputs": [
        {
          "output_type": "execute_result",
          "data": {
            "text/html": [
              "<div>\n",
              "<style scoped>\n",
              "    .dataframe tbody tr th:only-of-type {\n",
              "        vertical-align: middle;\n",
              "    }\n",
              "\n",
              "    .dataframe tbody tr th {\n",
              "        vertical-align: top;\n",
              "    }\n",
              "\n",
              "    .dataframe thead th {\n",
              "        text-align: right;\n",
              "    }\n",
              "</style>\n",
              "<table border=\"1\" class=\"dataframe\">\n",
              "  <thead>\n",
              "    <tr style=\"text-align: right;\">\n",
              "      <th></th>\n",
              "      <th>sample</th>\n",
              "      <th>x</th>\n",
              "      <th>y</th>\n",
              "    </tr>\n",
              "  </thead>\n",
              "  <tbody>\n",
              "    <tr>\n",
              "      <th>0</th>\n",
              "      <td>1</td>\n",
              "      <td>0.000000</td>\n",
              "      <td>0.000000</td>\n",
              "    </tr>\n",
              "    <tr>\n",
              "      <th>1</th>\n",
              "      <td>2</td>\n",
              "      <td>0.333333</td>\n",
              "      <td>0.333333</td>\n",
              "    </tr>\n",
              "    <tr>\n",
              "      <th>2</th>\n",
              "      <td>3</td>\n",
              "      <td>0.666667</td>\n",
              "      <td>0.666667</td>\n",
              "    </tr>\n",
              "    <tr>\n",
              "      <th>3</th>\n",
              "      <td>4</td>\n",
              "      <td>1.000000</td>\n",
              "      <td>1.000000</td>\n",
              "    </tr>\n",
              "  </tbody>\n",
              "</table>\n",
              "</div>"
            ],
            "text/plain": [
              "   sample         x         y\n",
              "0       1  0.000000  0.000000\n",
              "1       2  0.333333  0.333333\n",
              "2       3  0.666667  0.666667\n",
              "3       4  1.000000  1.000000"
            ]
          },
          "metadata": {
            "tags": []
          },
          "execution_count": 296
        }
      ]
    },
    {
      "cell_type": "markdown",
      "metadata": {
        "id": "GFsHe95sgQsd"
      },
      "source": [
        "**SPLITTING OF DATASET**"
      ]
    },
    {
      "cell_type": "code",
      "metadata": {
        "id": "GON9GQaJgA7K"
      },
      "source": [
        "x_train = df_norm.iloc[0:3,1:2]\n",
        "y_train = df_norm.iloc[0:3,2:]\n",
        "x_test = df_norm.iloc[3:,1:2]\n",
        "y_test = df_norm.iloc[3:,2:]"
      ],
      "execution_count": 297,
      "outputs": []
    },
    {
      "cell_type": "code",
      "metadata": {
        "colab": {
          "base_uri": "https://localhost:8080/",
          "height": 142
        },
        "id": "GGbHRd2CgZPp",
        "outputId": "3a774d40-e931-4056-ae45-e441e7526588"
      },
      "source": [
        "x_train"
      ],
      "execution_count": 298,
      "outputs": [
        {
          "output_type": "execute_result",
          "data": {
            "text/html": [
              "<div>\n",
              "<style scoped>\n",
              "    .dataframe tbody tr th:only-of-type {\n",
              "        vertical-align: middle;\n",
              "    }\n",
              "\n",
              "    .dataframe tbody tr th {\n",
              "        vertical-align: top;\n",
              "    }\n",
              "\n",
              "    .dataframe thead th {\n",
              "        text-align: right;\n",
              "    }\n",
              "</style>\n",
              "<table border=\"1\" class=\"dataframe\">\n",
              "  <thead>\n",
              "    <tr style=\"text-align: right;\">\n",
              "      <th></th>\n",
              "      <th>x</th>\n",
              "    </tr>\n",
              "  </thead>\n",
              "  <tbody>\n",
              "    <tr>\n",
              "      <th>0</th>\n",
              "      <td>0.000000</td>\n",
              "    </tr>\n",
              "    <tr>\n",
              "      <th>1</th>\n",
              "      <td>0.333333</td>\n",
              "    </tr>\n",
              "    <tr>\n",
              "      <th>2</th>\n",
              "      <td>0.666667</td>\n",
              "    </tr>\n",
              "  </tbody>\n",
              "</table>\n",
              "</div>"
            ],
            "text/plain": [
              "          x\n",
              "0  0.000000\n",
              "1  0.333333\n",
              "2  0.666667"
            ]
          },
          "metadata": {
            "tags": []
          },
          "execution_count": 298
        }
      ]
    },
    {
      "cell_type": "code",
      "metadata": {
        "colab": {
          "base_uri": "https://localhost:8080/",
          "height": 80
        },
        "id": "vF9kJbtTgcoz",
        "outputId": "f1c20b08-bd38-46a6-cbb4-29c775b8d2d7"
      },
      "source": [
        "x_test"
      ],
      "execution_count": 299,
      "outputs": [
        {
          "output_type": "execute_result",
          "data": {
            "text/html": [
              "<div>\n",
              "<style scoped>\n",
              "    .dataframe tbody tr th:only-of-type {\n",
              "        vertical-align: middle;\n",
              "    }\n",
              "\n",
              "    .dataframe tbody tr th {\n",
              "        vertical-align: top;\n",
              "    }\n",
              "\n",
              "    .dataframe thead th {\n",
              "        text-align: right;\n",
              "    }\n",
              "</style>\n",
              "<table border=\"1\" class=\"dataframe\">\n",
              "  <thead>\n",
              "    <tr style=\"text-align: right;\">\n",
              "      <th></th>\n",
              "      <th>x</th>\n",
              "    </tr>\n",
              "  </thead>\n",
              "  <tbody>\n",
              "    <tr>\n",
              "      <th>3</th>\n",
              "      <td>1.0</td>\n",
              "    </tr>\n",
              "  </tbody>\n",
              "</table>\n",
              "</div>"
            ],
            "text/plain": [
              "     x\n",
              "3  1.0"
            ]
          },
          "metadata": {
            "tags": []
          },
          "execution_count": 299
        }
      ]
    },
    {
      "cell_type": "code",
      "metadata": {
        "colab": {
          "base_uri": "https://localhost:8080/",
          "height": 80
        },
        "id": "uXNWsuX1gdge",
        "outputId": "fad90415-48c5-4cb2-e588-23eefd542e36"
      },
      "source": [
        "y_test"
      ],
      "execution_count": 300,
      "outputs": [
        {
          "output_type": "execute_result",
          "data": {
            "text/html": [
              "<div>\n",
              "<style scoped>\n",
              "    .dataframe tbody tr th:only-of-type {\n",
              "        vertical-align: middle;\n",
              "    }\n",
              "\n",
              "    .dataframe tbody tr th {\n",
              "        vertical-align: top;\n",
              "    }\n",
              "\n",
              "    .dataframe thead th {\n",
              "        text-align: right;\n",
              "    }\n",
              "</style>\n",
              "<table border=\"1\" class=\"dataframe\">\n",
              "  <thead>\n",
              "    <tr style=\"text-align: right;\">\n",
              "      <th></th>\n",
              "      <th>y</th>\n",
              "    </tr>\n",
              "  </thead>\n",
              "  <tbody>\n",
              "    <tr>\n",
              "      <th>3</th>\n",
              "      <td>1.0</td>\n",
              "    </tr>\n",
              "  </tbody>\n",
              "</table>\n",
              "</div>"
            ],
            "text/plain": [
              "     y\n",
              "3  1.0"
            ]
          },
          "metadata": {
            "tags": []
          },
          "execution_count": 300
        }
      ]
    },
    {
      "cell_type": "code",
      "metadata": {
        "colab": {
          "base_uri": "https://localhost:8080/"
        },
        "id": "g5y8KmJbgea3",
        "outputId": "cc1b5c7e-b353-4e83-eceb-0400f202e13b"
      },
      "source": [
        "#step 1 : initialize model params\n",
        "m=1\n",
        "c=-1\n",
        "n=0.1\n",
        "epochs = 120\n",
        "iter =1\n",
        "#ns = df.shape[0]\n",
        "ns = len(x_train)\n",
        "\n",
        "#step 2: start iteration and update iter\n",
        "#iter = iter+1\n",
        "for iter in range(1,epochs+1):\n",
        "    #step 3: track samples\n",
        "    #sample =1\n",
        "    print(\"ITERATION : {}\".format(iter))\n",
        "    for sample in range(0,ns):\n",
        "      x = x_train['x'][sample].round(2)\n",
        "      y = y_train['y'][sample].round(2)\n",
        "      print(\"Sample {} \".format(sample+1)+\"x = {}\".format(x)+\"y = {}\".format(y))\n",
        "      #print(\"sample {}\".format(x)+\" {}\".format(y))\n",
        "      #step 4 calculate gradient wrto each model param\n",
        "      deltaE_m = -(y-m*x-c)*x\n",
        "      deltaE_c = -(y-m*x-c)\n",
        "      #step 5 : calculate change\n",
        "      del_m = -n*deltaE_m\n",
        "      del_c = -n*deltaE_c\n",
        "      #step 6: update model params\n",
        "      m = m+del_m\n",
        "      c = c+del_c\n",
        "      print(\"m: {}\".format(m)+\" c = {}\".format(c))\n",
        "print(\"---------------------------------------------------------------\")\n",
        "print('Optimal Values')\n",
        "print('m = {}'.format(m))\n",
        "print('c = {}'.format(c))\n",
        "\n",
        "\n",
        "\n",
        "\n",
        "#step 4: calculate error\n"
      ],
      "execution_count": 304,
      "outputs": [
        {
          "output_type": "stream",
          "text": [
            "ITERATION : 1\n",
            "Sample 1 x = 0.0y = 0.0\n",
            "m: 1.0 c = -0.9\n",
            "Sample 2 x = 0.33y = 0.33\n",
            "m: 1.0297 c = -0.81\n",
            "Sample 3 x = 0.67y = 0.67\n",
            "m: 1.082636767 c = -0.7309899000000001\n",
            "ITERATION : 2\n",
            "Sample 1 x = 0.0y = 0.0\n",
            "m: 1.082636767 c = -0.6578909100000001\n",
            "Sample 2 x = 0.33y = 0.33\n",
            "m: 1.1034472526373702 c = -0.5948288323110001\n",
            "Sample 3 x = 0.67y = 0.67\n",
            "m: 1.1386570372313156 c = -0.5422769150066039\n",
            "ITERATION : 3\n",
            "Sample 1 x = 0.0y = 0.0\n",
            "m: 1.1386570372313156 c = -0.4880492235059435\n",
            "Sample 2 x = 0.33y = 0.33\n",
            "m: 1.1532526864715626 c = -0.44381998338398254\n",
            "Sample 3 x = 0.67y = 0.67\n",
            "m: 1.176109112262581 c = -0.40970591503917897\n",
            "ITERATION : 4\n",
            "Sample 1 x = 0.0y = 0.0\n",
            "m: 1.176109112262581 c = -0.36873532353526106\n",
            "Sample 2 x = 0.33y = 0.33\n",
            "m: 1.1863595497067052 c = -0.3376733918864001\n",
            "Sample 3 x = 0.67y = 0.67\n",
            "m: 1.2006179867767601 c = -0.3163921425281093\n",
            "ITERATION : 5\n",
            "Sample 1 x = 0.0y = 0.0\n",
            "m: 1.2006179867767601 c = -0.2847529282752984\n",
            "Sample 2 x = 0.33y = 0.33\n",
            "m: 1.2078301035338461 c = -0.26289802901140163\n",
            "Sample 3 x = 0.67y = 0.67\n",
            "m: 1.2161147781299757 c = -0.25053284304702916\n",
            "ITERATION : 6\n",
            "Sample 1 x = 0.0y = 0.0\n",
            "m: 1.2161147781299757 c = -0.22547955874232625\n",
            "Sample 2 x = 0.33y = 0.33\n",
            "m: 1.221202113634637 c = -0.21006339054638282\n",
            "Sample 3 x = 0.67y = 0.67\n",
            "m: 1.2253465979201856 c = -0.2038775931052652\n",
            "ITERATION : 7\n",
            "Sample 1 x = 0.0y = 0.0\n",
            "m: 1.2253465979201856 c = -0.18348983379473868\n",
            "Sample 2 x = 0.33y = 0.33\n",
            "m: 1.2289477379840612 c = -0.17257728814663092\n",
            "Sample 3 x = 0.67y = 0.67\n",
            "m: 1.230232952331781 c = -0.17065905777689994\n",
            "ITERATION : 8\n",
            "Sample 1 x = 0.0y = 0.0\n",
            "m: 1.230232952331781 c = -0.15359315199920995\n",
            "Sample 2 x = 0.33y = 0.33\n",
            "m: 1.2327942894968618 c = -0.14583152422623774\n",
            "Sample 3 x = 0.67y = 0.67\n",
            "m: 1.2321148659645056 c = -0.1468455891999037\n",
            "ITERATION : 9\n",
            "Sample 1 x = 0.0y = 0.0\n",
            "m: 1.2321148659645056 c = -0.13216103027991333\n",
            "Sample 2 x = 0.33y = 0.33\n",
            "m: 1.2339484490733892 c = -0.12660471782875068\n",
            "Sample 3 x = 0.67y = 0.67\n",
            "m: 1.231929019289011 c = -0.12961879213379268\n",
            "ITERATION : 10\n",
            "Sample 1 x = 0.0y = 0.0\n",
            "m: 1.231929019289011 c = -0.11665691292041341\n",
            "Sample 2 x = 0.33y = 0.33\n",
            "m: 1.2332529903953273 c = -0.11264487926490943\n",
            "Sample 3 x = 0.67y = 0.67\n",
            "m: 1.23032947056723 c = -0.11700834169490541\n",
            "ITERATION : 11\n",
            "Sample 1 x = 0.0y = 0.0\n",
            "m: 1.23032947056723 c = -0.10530750752541487\n",
            "Sample 2 x = 0.33y = 0.33\n",
            "m: 1.2312963303810915 c = -0.10237762930159199\n",
            "Sample 3 x = 0.67y = 0.67\n",
            "m: 1.227772739273491 c = -0.10763672050696592\n",
            "ITERATION : 12\n",
            "Sample 1 x = 0.0y = 0.0\n",
            "m: 1.227772739273491 c = -0.09687304845626933\n",
            "Sample 2 x = 0.33y = 0.33\n",
            "m: 1.2284891047418596 c = -0.0947022440066676\n",
            "Sample 3 x = 0.67y = 0.67\n",
            "m: 1.2245772791784442 c = -0.10054078962370543\n",
            "ITERATION : 13\n",
            "Sample 1 x = 0.0y = 0.0\n",
            "m: 1.2245772791784442 c = -0.09048671066133489\n",
            "Sample 2 x = 0.33y = 0.33\n",
            "m: 1.225117694060015 c = -0.08884908980809006\n",
            "Sample 3 x = 0.67y = 0.67\n",
            "m: 1.220965049790803 c = -0.09504706632930206\n",
            "ITERATION : 14\n",
            "Sample 1 x = 0.0y = 0.0\n",
            "m: 1.220965049790803 c = -0.08554235969637185\n",
            "Sample 2 x = 0.33y = 0.33\n",
            "m: 1.2213816382685614 c = -0.08427997036983116\n",
            "Sample 3 x = 0.67y = 0.67\n",
            "m: 1.2170905745414644 c = -0.09068454309684165\n",
            "ITERATION : 15\n",
            "Sample 1 x = 0.0y = 0.0\n",
            "m: 1.2170905745414644 c = -0.08161608878715748\n",
            "Sample 2 x = 0.33y = 0.33\n",
            "m: 1.217419789114684 c = -0.08061846886831006\n",
            "Sample 3 x = 0.67y = 0.67\n",
            "m: 1.2130612521955026 c = -0.08712374785216288\n",
            "ITERATION : 16\n",
            "Sample 1 x = 0.0y = 0.0\n",
            "m: 1.2130612521955026 c = -0.0784113730669466\n",
            "Sample 2 x = 0.33y = 0.33\n",
            "m: 1.2133285904703028 c = -0.07760125708270352\n",
            "Sample 3 x = 0.67y = 0.67\n",
            "m: 1.208951554268632 c = -0.08413414693594345\n",
            "ITERATION : 17\n",
            "Sample 1 x = 0.0y = 0.0\n",
            "m: 1.208951554268632 c = -0.07572073224234911\n",
            "Sample 2 x = 0.33y = 0.33\n",
            "m: 1.2091748560066442 c = -0.07504406030897906\n",
            "Sample 3 x = 0.67y = 0.67\n",
            "m: 1.2048129487612076 c = -0.08155436963052631\n",
            "ITERATION : 18\n",
            "Sample 1 x = 0.0y = 0.0\n",
            "m: 1.2048129487612076 c = -0.07339893266747369\n",
            "Sample 2 x = 0.33y = 0.33\n",
            "m: 1.2050047005272246 c = -0.07281786670984618\n",
            "Sample 3 x = 0.67y = 0.67\n",
            "m: 1.2006808365901172 c = -0.07927139497418562\n",
            "ITERATION : 19\n",
            "Sample 1 x = 0.0y = 0.0\n",
            "m: 1.2006808365901172 c = -0.07134425547676705\n",
            "Sample 2 x = 0.33y = 0.33\n",
            "m: 1.2008497827103841 c = -0.07083229753656421\n",
            "Sample 3 x = 0.67y = 0.67\n",
            "m: 1.1965793998994647 c = -0.07720600322450354\n",
            "ITERATION : 20\n",
            "Sample 1 x = 0.0y = 0.0\n",
            "m: 1.1965793998994647 c = -0.06948540290205318\n",
            "Sample 2 x = 0.33y = 0.33\n",
            "m: 1.1967316685303273 c = -0.0690239828085302\n",
            "Sample 3 x = 0.67y = 0.67\n",
            "m: 1.1925249907781725 c = -0.07530260631920911\n",
            "ITERATION : 21\n",
            "Sample 1 x = 0.0y = 0.0\n",
            "m: 1.1925249907781725 c = -0.0677723456872882\n",
            "Sample 2 x = 0.33y = 0.33\n",
            "m: 1.1926648810362788 c = -0.06734843581423908\n",
            "Sample 3 x = 0.67y = 0.67\n",
            "m: 1.1885284997261143 c = -0.07352213926224585\n",
            "ITERATION : 22\n",
            "Sample 1 x = 0.0y = 0.0\n",
            "m: 1.1885284997261143 c = -0.06616992533602127\n",
            "Sample 2 x = 0.33y = 0.33\n",
            "m: 1.1886590319001855 c = -0.06577437329338091\n",
            "Sample 3 x = 0.67y = 0.67\n",
            "m: 1.1845970109688426 c = -0.07183709110135525\n",
            "ITERATION : 23\n",
            "Sample 1 x = 0.0y = 0.0\n",
            "m: 1.1845970109688426 c = -0.06465338199121973\n",
            "Sample 2 x = 0.33y = 0.33\n",
            "m: 1.1847203111251021 c = -0.06427974515406956\n",
            "Sample 3 x = 0.67y = 0.67\n",
            "m: 1.1807349592840188 c = -0.07022803148404445\n",
            "ITERATION : 24\n",
            "Sample 1 x = 0.0y = 0.0\n",
            "m: 1.1807349592840188 c = -0.06320522833564\n",
            "Sample 2 x = 0.33y = 0.33\n",
            "m: 1.180852528112492 c = -0.06284895915844863\n",
            "Sample 3 x = 0.67y = 0.67\n",
            "m: 1.1769449383891382 c = -0.06868118262614073\n",
            "ITERATION : 25\n",
            "Sample 1 x = 0.0y = 0.0\n",
            "m: 1.1769449383891382 c = -0.061813064363526654\n",
            "Sample 2 x = 0.33y = 0.33\n",
            "m: 1.177057839134077 c = -0.06147094089401555\n",
            "Sample 3 x = 0.67y = 0.67\n",
            "m: 1.1732282657752473 c = -0.06718672202659715\n",
            "ITERATION : 26\n",
            "Sample 1 x = 0.0y = 0.0\n",
            "m: 1.1732282657752473 c = -0.06046804982393743\n",
            "Sample 2 x = 0.33y = 0.33\n",
            "m: 1.173337255605145 c = -0.060137777612126846\n",
            "Sample 3 x = 0.67y = 0.67\n",
            "m: 1.1695853773010425 c = -0.06573759597645887\n",
            "ITERATION : 27\n",
            "Sample 1 x = 0.0y = 0.0\n",
            "m: 1.1695853773010425 c = -0.05916383637881298\n",
            "Sample 2 x = 0.33y = 0.33\n",
            "m: 1.1696909991427349 c = -0.05884377019186608\n",
            "Sample 3 x = 0.67y = 0.67\n",
            "m: 1.1660161027940725 c = -0.06432869011524271\n",
            "ITERATION : 28\n",
            "Sample 1 x = 0.0y = 0.0\n",
            "m: 1.1660161027940725 c = -0.05789582110371844\n",
            "Sample 2 x = 0.33y = 0.33\n",
            "m: 1.1661187495310679 c = -0.05758477038555099\n",
            "Sample 3 x = 0.67y = 0.67\n",
            "m: 1.1625198584804501 c = -0.06295624956557744\n",
            "ITERATION : 29\n",
            "Sample 1 x = 0.0y = 0.0\n",
            "m: 1.1625198584804501 c = -0.056660624609019695\n",
            "Sample 2 x = 0.33y = 0.33\n",
            "m: 1.1626198178336957 c = -0.05635771747797258\n",
            "Sample 3 x = 0.67y = 0.67\n",
            "m: 1.1590957812821652 c = -0.06161747352503294\n",
            "ITERATION : 30\n",
            "Sample 1 x = 0.0y = 0.0\n",
            "m: 1.1590957812821652 c = -0.05545572617252965\n",
            "Sample 2 x = 0.33y = 0.33\n",
            "m: 1.1591932671876959 c = -0.05516031433758813\n",
            "Sample 3 x = 0.67y = 0.67\n",
            "m: 1.1557428224842585 c = -0.06031023180540495\n",
            "ITERATION : 31\n",
            "Sample 1 x = 0.0y = 0.0\n",
            "m: 1.1557428224842585 c = -0.054279208624864454\n",
            "Sample 2 x = 0.33y = 0.33\n",
            "m: 1.1558379970320254 c = -0.053990800904358545\n",
            "Sample 3 x = 0.67y = 0.67\n",
            "m: 1.1524598130058499 c = -0.05903286661506839\n",
            "ITERATION : 32\n",
            "Sample 1 x = 0.0y = 0.0\n",
            "m: 1.1524598130058499 c = -0.053129579953561545\n",
            "Sample 2 x = 0.33y = 0.33\n",
            "m: 1.1525528017806836 c = -0.05284779578739844\n",
            "Sample 3 x = 0.67y = 0.67\n",
            "m: 1.1492455088265046 c = -0.0577840539279644\n",
            "ITERATION : 33\n",
            "Sample 1 x = 0.0y = 0.0\n",
            "m: 1.1492455088265046 c = -0.05200564853516796\n",
            "Sample 2 x = 0.33y = 0.33\n",
            "m: 1.1493364116370444 c = -0.051730185472925815\n",
            "Sample 3 x = 0.67y = 0.67\n",
            "m: 1.1460986225453436 c = -0.05656270650531521\n",
            "ITERATION : 34\n",
            "Sample 1 x = 0.0y = 0.0\n",
            "m: 1.1460986225453436 c = -0.05090643585478369\n",
            "Sample 2 x = 0.33y = 0.33\n",
            "m: 1.1461875209290326 c = -0.05063704681330166\n",
            "Sample 3 x = 0.67y = 0.67\n",
            "m: 1.1430178452510196 c = -0.055367906034216686\n",
            "ITERATION : 35\n",
            "Sample 1 x = 0.0y = 0.0\n",
            "m: 1.1430178452510196 c = -0.04983111543079502\n",
            "Sample 2 x = 0.33y = 0.33\n",
            "m: 1.1431048077254522 c = -0.04956759278099916\n",
            "Sample 3 x = 0.67y = 0.67\n",
            "m: 1.1400018616229837 c = -0.05419885562050455\n",
            "ITERATION : 36\n",
            "Sample 1 x = 0.0y = 0.0\n",
            "m: 1.1400018616229837 c = -0.048778970058454094\n",
            "Sample 2 x = 0.33y = 0.33\n",
            "m: 1.1400869473618385 c = -0.04852113448616714\n",
            "Sample 3 x = 0.67y = 0.67\n",
            "m: 1.1370493603053387 c = -0.05305484651079361\n",
            "ITERATION : 37\n",
            "Sample 1 x = 0.0y = 0.0\n",
            "m: 1.1370493603053387 c = -0.04774936185971425\n",
            "Sample 2 x = 0.33y = 0.33\n",
            "m: 1.137132621712984 c = -0.047497054563818995\n",
            "Sample 3 x = 0.67y = 0.67\n",
            "m: 1.134159040980064 c = -0.05193523476220703\n",
            "ITERATION : 38\n",
            "Sample 1 x = 0.0y = 0.0\n",
            "m: 1.134159040980064 c = -0.04674171128598632\n",
            "Sample 2 x = 0.33y = 0.33\n",
            "m: 1.1342405254962287 c = -0.0464947885097298\n",
            "Sample 3 x = 0.67y = 0.67\n",
            "m: 1.131329619136855 c = -0.05083942486700414\n",
            "ITERATION : 39\n",
            "Sample 1 x = 0.0y = 0.0\n",
            "m: 1.131329619136855 c = -0.045755482380303726\n",
            "Sample 2 x = 0.33y = 0.33\n",
            "m: 1.1314093705030046 c = -0.045513811573789566\n",
            "Sample 3 x = 0.67y = 0.67\n",
            "m: 1.1285598292365686 c = -0.04976685824011192\n",
            "ITERATION : 40\n",
            "Sample 1 x = 0.0y = 0.0\n",
            "m: 1.1285598292365686 c = -0.044790172416100726\n",
            "Sample 2 x = 0.33y = 0.33\n",
            "m: 1.1286378883859136 c = -0.04455362953929742\n",
            "Sample 3 x = 0.67y = 0.67\n",
            "m: 1.125848426755403 c = -0.04871700510722389\n",
            "ITERATION : 41\n",
            "Sample 1 x = 0.0y = 0.0\n",
            "m: 1.125848426755403 c = -0.0438453045965015\n",
            "Sample 2 x = 0.33y = 0.33\n",
            "m: 1.125924832439721 c = -0.043613772219779655\n",
            "Sample 3 x = 0.67y = 0.67\n",
            "m: 1.1231941894502273 c = -0.047689358771263006\n",
            "ITERATION : 42\n",
            "Sample 1 x = 0.0y = 0.0\n",
            "m: 1.1231941894502273 c = -0.04292042289413671\n",
            "Sample 2 x = 0.33y = 0.33\n",
            "m: 1.1232689786826209 c = -0.04269378885658054\n",
            "Sample 3 x = 0.67y = 0.67\n",
            "m: 1.120595918082949 c = -0.04668343154265809\n",
            "ITERATION : 43\n",
            "Sample 1 x = 0.0y = 0.0\n",
            "m: 1.120595918082949 c = -0.04201508838839228\n",
            "Sample 2 x = 0.33y = 0.33\n",
            "m: 1.1206691264518427 c = -0.04179324484629037\n",
            "Sample 3 x = 0.67y = 0.67\n",
            "m: 1.118052436770121 c = -0.04569875183393479\n",
            "ITERATION : 44\n",
            "Sample 1 x = 0.0y = 0.0\n",
            "m: 1.118052436770121 c = -0.04112887665054131\n",
            "Sample 2 x = 0.33y = 0.33\n",
            "m: 1.1181240986631622 c = -0.040911719398901175\n",
            "Sample 3 x = 0.67y = 0.67\n",
            "m: 1.1155625930738993 c = -0.04473486206944293\n",
            "ITERATION : 45\n",
            "Sample 1 x = 0.0y = 0.0\n",
            "m: 1.1155625930738993 c = -0.04026137586249864\n",
            "Sample 2 x = 0.33y = 0.33\n",
            "m: 1.115632741838787 c = -0.04004880384768745\n",
            "Sample 3 x = 0.67y = 0.67\n",
            "m: 1.113125257915439 c = -0.043791317166117436\n",
            "ITERATION : 46\n",
            "Sample 1 x = 0.0y = 0.0\n",
            "m: 1.113125257915439 c = -0.03941218544950569\n",
            "Sample 2 x = 0.33y = 0.33\n",
            "m: 1.1131939259765735 c = -0.03920410041576461\n",
            "Sample 3 x = 0.67y = 0.67\n",
            "m: 1.1107393253673414 c = -0.04286768341461857\n",
            "ITERATION : 47\n",
            "Sample 1 x = 0.0y = 0.0\n",
            "m: 1.1107393253673414 c = -0.03858091507315672\n",
            "Sample 2 x = 0.33y = 0.33\n",
            "m: 1.1108065443115052 c = -0.03837722130296331\n",
            "Sample 3 x = 0.67y = 0.67\n",
            "m: 1.1084037123646602 c = -0.04196353764153782\n",
            "ITERATION : 48\n",
            "Sample 1 x = 0.0y = 0.0\n",
            "m: 1.1084037123646602 c = -0.037767183877384036\n",
            "Sample 2 x = 0.33y = 0.33\n",
            "m: 1.1084695130049627 c = -0.03756778799767942\n",
            "Sample 3 x = 0.67y = 0.67\n",
            "m: 1.1061173583620143 c = -0.04107846656924397\n",
            "ITERATION : 49\n",
            "Sample 1 x = 0.0y = 0.0\n",
            "m: 1.1061173583620143 c = -0.03697061991231958\n",
            "Sample 2 x = 0.33y = 0.33\n",
            "m: 1.1061817707865584 c = -0.03677543074703409\n",
            "Sample 3 x = 0.67y = 0.67\n",
            "m: 1.1038792249560012 c = -0.040212066315030104\n",
            "ITERATION : 50\n",
            "Sample 1 x = 0.0y = 0.0\n",
            "m: 1.1038792249560012 c = -0.036190859683527095\n",
            "Sample 2 x = 0.33y = 0.33\n",
            "m: 1.1039422785657869 c = -0.03599978813872243\n",
            "Sample 3 x = 0.67y = 0.67\n",
            "m: 1.101688295486263 c = -0.0393639419887579\n",
            "ITERATION : 51\n",
            "Sample 1 x = 0.0y = 0.0\n",
            "m: 1.101688295486263 c = -0.03542754778988211\n",
            "Sample 2 x = 0.33y = 0.33\n",
            "m: 1.1017500190254836 c = -0.03524050676194058\n",
            "Sample 3 x = 0.67y = 0.67\n",
            "m: 1.0995435746244797 c = -0.038533707360453924\n",
            "ITERATION : 52\n",
            "Sample 1 x = 0.0y = 0.0\n",
            "m: 1.0995435746244797 c = -0.03468033662440853\n",
            "Sample 2 x = 0.33y = 0.33\n",
            "m: 1.0996039962054247 c = -0.03449724092457551\n",
            "Sample 3 x = 0.67y = 0.67\n",
            "m: 1.0974440879577096 c = -0.03772098457788141\n",
            "ITERATION : 53\n",
            "Sample 1 x = 0.0y = 0.0\n",
            "m: 1.0974440879577096 c = -0.033948886120093266\n",
            "Sample 2 x = 0.33y = 0.33\n",
            "m: 1.0975032350818132 c = -0.03376965241068836\n",
            "Sample 3 x = 0.67y = 0.67\n",
            "m: 1.0953888815705068 c = -0.03692540392010102\n",
            "ITERATION : 54\n",
            "Sample 1 x = 0.0y = 0.0\n",
            "m: 1.0953888815705068 c = -0.03323286352809092\n",
            "Sample 2 x = 0.33y = 0.33\n",
            "m: 1.095446781146631 c = -0.03305741026710855\n",
            "Sample 3 x = 0.67y = 0.67\n",
            "m: 1.093377021628855 c = -0.036146603577221985\n",
            "ITERATION : 55\n",
            "Sample 1 x = 0.0y = 0.0\n",
            "m: 1.093377021628855 c = -0.03253194321949979\n",
            "Sample 2 x = 0.33y = 0.33\n",
            "m: 1.0934336999895602 c = -0.03236019061130202\n",
            "Sample 3 x = 0.67y = 0.67\n",
            "m: 1.0914075939679861 c = -0.03538422944947235\n",
            "ITERATION : 56\n",
            "Sample 1 x = 0.0y = 0.0\n",
            "m: 1.0914075939679861 c = -0.03184580650452511\n",
            "Sample 2 x = 0.33y = 0.33\n",
            "m: 1.091463076884324 c = -0.031677676455016145\n",
            "Sample 3 x = 0.67y = 0.67\n",
            "m: 1.0894797036854729 c = -0.03463793496076424\n",
            "ITERATION : 57\n",
            "Sample 1 x = 0.0y = 0.0\n",
            "m: 1.0894797036854729 c = -0.03117414146468782\n",
            "Sample 2 x = 0.33y = 0.33\n",
            "m: 1.0895340163806728 c = -0.031009557539839642\n",
            "Sample 3 x = 0.67y = 0.67\n",
            "m: 1.0875924747405137 c = -0.03390738088336076\n",
            "ITERATION : 58\n",
            "Sample 1 x = 0.0y = 0.0\n",
            "m: 1.0875924747405137 c = -0.030516642795024685\n",
            "Sample 2 x = 0.33y = 0.33\n",
            "m: 1.0876456419028253 c = -0.03035553018195917\n",
            "Sample 3 x = 0.67y = 0.67\n",
            "m: 1.0857450495599987 c = -0.03319223517125255\n",
            "ITERATION : 59\n",
            "Sample 1 x = 0.0y = 0.0\n",
            "m: 1.0857450495599987 c = -0.029873011654127292\n",
            "Sample 2 x = 0.33y = 0.33\n",
            "m: 1.0857970953548766 c = -0.02971529712419452\n",
            "Sample 3 x = 0.67y = 0.67\n",
            "m: 1.0839365886517172 c = -0.032492172800551805\n",
            "ITERATION : 60\n",
            "Sample 1 x = 0.0y = 0.0\n",
            "m: 1.0839365886517172 c = -0.029242955520496626\n",
            "Sample 2 x = 0.33y = 0.33\n",
            "m: 1.0839875367334764 c = -0.029088567393953633\n",
            "Sample 3 x = 0.67y = 0.67\n",
            "m: 1.0821662702249055 c = -0.03180687561570118\n",
            "ITERATION : 61\n",
            "Sample 1 x = 0.0y = 0.0\n",
            "m: 1.0821662702249055 c = -0.028626188054131065\n",
            "Sample 2 x = 0.33y = 0.33\n",
            "m: 1.0822161437479427 c = -0.028475056166139844\n",
            "Sample 3 x = 0.67y = 0.67\n",
            "m: 1.080433289818229 c = -0.03113603218063802\n",
            "ITERATION : 62\n",
            "Sample 1 x = 0.0y = 0.0\n",
            "m: 1.080433289818229 c = -0.028022428962574217\n",
            "Sample 2 x = 0.33y = 0.33\n",
            "m: 1.0804821114478733 c = -0.02787448463031835\n",
            "Sample 3 x = 0.67y = 0.67\n",
            "m: 1.0787368599352096 c = -0.030479337634294026\n",
            "ITERATION : 63\n",
            "Sample 1 x = 0.0y = 0.0\n",
            "m: 1.0787368599352096 c = -0.027431403870864624\n",
            "Sample 2 x = 0.33y = 0.33\n",
            "m: 1.0787846518582538 c = -0.02728657986164008\n",
            "Sample 3 x = 0.67y = 0.67\n",
            "m: 1.0770762096870667 c = -0.029836493549979082\n",
            "ITERATION : 64\n",
            "Sample 1 x = 0.0y = 0.0\n",
            "m: 1.0770762096870667 c = -0.026852844194981174\n",
            "Sample 2 x = 0.33y = 0.33\n",
            "m: 1.077122993622009 c = -0.026711074695156257\n",
            "Sample 3 x = 0.67y = 0.67\n",
            "m: 1.0754505844428925 c = -0.029207207798315232\n",
            "ITERATION : 65\n",
            "Sample 1 x = 0.0y = 0.0\n",
            "m: 1.0754505844428925 c = -0.02628648701848371\n",
            "Sample 2 x = 0.33y = 0.33\n",
            "m: 1.0754963816499195 c = -0.026147707603250792\n",
            "Sample 3 x = 0.67y = 0.67\n",
            "m: 1.0738592454870723 c = -0.028591194413470314\n",
            "ITERATION : 66\n",
            "Sample 1 x = 0.0y = 0.0\n",
            "m: 1.0738592454870723 c = -0.025732074972123282\n",
            "Sample 2 x = 0.33y = 0.33\n",
            "m: 1.073904076777798 c = -0.02559622257598434\n",
            "Sample 3 x = 0.67y = 0.67\n",
            "m: 1.0723014696838338 c = -0.02798817346249838\n",
            "ITERATION : 67\n",
            "Sample 1 x = 0.0y = 0.0\n",
            "m: 1.0723014696838338 c = -0.02518935611624854\n",
            "Sample 2 x = 0.33y = 0.33\n",
            "m: 1.072345355430813 c = -0.025056369004190202\n",
            "Sample 3 x = 0.67y = 0.67\n",
            "m: 1.0707765491488046 c = -0.027397870917635663\n",
            "ITERATION : 68\n",
            "Sample 1 x = 0.0y = 0.0\n",
            "m: 1.0707765491488046 c = -0.024658083825872097\n",
            "Sample 2 x = 0.33y = 0.33\n",
            "m: 1.0708195092948278 c = -0.024527901565195437\n",
            "Sample 3 x = 0.67y = 0.67\n",
            "m: 1.069283790927451 c = -0.026820018531429353\n",
            "ITERATION : 69\n",
            "Sample 1 x = 0.0y = 0.0\n",
            "m: 1.069283790927451 c = -0.02413801667828642\n",
            "Sample 2 x = 0.33y = 0.33\n",
            "m: 1.0693258449946346 c = -0.024010580111063662\n",
            "Sample 3 x = 0.67y = 0.67\n",
            "m: 1.0678225166802666 c = -0.026254353714597816\n",
            "ITERATION : 70\n",
            "Sample 1 x = 0.0y = 0.0\n",
            "m: 1.0678225166802666 c = -0.023628918343138034\n",
            "Sample 2 x = 0.33y = 0.33\n",
            "m: 1.0678636837789421 c = -0.02350416955927303\n",
            "Sample 3 x = 0.67y = 0.67\n",
            "m: 1.0663920623745766 c = -0.025700619416534846\n",
            "ITERATION : 71\n",
            "Sample 1 x = 0.0y = 0.0\n",
            "m: 1.0663920623745766 c = -0.02313055747488136\n",
            "Sample 2 x = 0.33y = 0.33\n",
            "m: 1.0664323612119886 c = -0.023008439785754255\n",
            "Sample 3 x = 0.67y = 0.67\n",
            "m: 1.064991777982828 c = -0.02515856400838206\n",
            "ITERATION : 72\n",
            "Sample 1 x = 0.0y = 0.0\n",
            "m: 1.064991777982828 c = -0.022642707607543854\n",
            "Sample 2 x = 0.33y = 0.33\n",
            "m: 1.065031226871644 c = -0.02252316552022279\n",
            "Sample 3 x = 0.67y = 0.67\n",
            "m: 1.0636210271872308 c = -0.024627941168600658\n",
            "ITERATION : 73\n",
            "Sample 1 x = 0.0y = 0.0\n",
            "m: 1.0636210271872308 c = -0.022165147051740594\n",
            "Sample 2 x = 0.33y = 0.33\n",
            "m: 1.0636596440538693 c = -0.02204812624374515\n",
            "Sample 3 x = 0.67y = 0.67\n",
            "m: 1.062279187090622 c = -0.024108509770979877\n",
            "ITERATION : 74\n",
            "Sample 1 x = 0.0y = 0.0\n",
            "m: 1.062279187090622 c = -0.02169765879388189\n",
            "Sample 2 x = 0.33y = 0.33\n",
            "m: 1.0623169894834033 c = -0.021583106088484228\n",
            "Sample 3 x = 0.67y = 0.67\n",
            "m: 1.0609656479334217 c = -0.023600033775023822\n",
            "ITERATION : 75\n",
            "Sample 1 x = 0.0y = 0.0\n",
            "m: 1.0609656479334217 c = -0.02124003039752144\n",
            "Sample 2 x = 0.33y = 0.33\n",
            "m: 1.061002653030545 c = -0.021127893739572214\n",
            "Sample 3 x = 0.67y = 0.67\n",
            "m: 1.0596798128165552 c = -0.023102282118661506\n",
            "ITERATION : 76\n",
            "Sample 1 x = 0.0y = 0.0\n",
            "m: 1.0596798128165552 c = -0.020792053906795355\n",
            "Sample 2 x = 0.33y = 0.33\n",
            "m: 1.0597160374339072 c = -0.02068228233906214\n",
            "Sample 3 x = 0.67y = 0.67\n",
            "m: 1.0584210974302162 c = -0.02261502861322771\n",
            "ITERATION : 77\n",
            "Sample 1 x = 0.0y = 0.0\n",
            "m: 1.0584210974302162 c = -0.02035352575190494\n",
            "Sample 2 x = 0.33y = 0.33\n",
            "m: 1.058456558029014 c = -0.020246069391911578\n",
            "Sample 3 x = 0.67y = 0.67\n",
            "m: 1.0571889297883497 c = -0.022138051840664356\n",
            "ITERATION : 78\n",
            "Sample 1 x = 0.0y = 0.0\n",
            "m: 1.0571889297883497 c = -0.01992424665659792\n",
            "Sample 2 x = 0.33y = 0.33\n",
            "m: 1.0572236424826222 c = -0.019819056673953665\n",
            "Sample 3 x = 0.67y = 0.67\n",
            "m: 1.0559827499687322 c = -0.021671135052893992\n",
            "ITERATION : 79\n",
            "Sample 1 x = 0.0y = 0.0\n",
            "m: 1.0559827499687322 c = -0.019504021547604593\n",
            "Sample 2 x = 0.33y = 0.33\n",
            "m: 1.0560167305326436 c = -0.0194010501418123\n",
            "Sample 3 x = 0.67y = 0.67\n",
            "m: 1.0548020098585347 c = -0.02121406607331819\n",
            "ITERATION : 80\n",
            "Sample 1 x = 0.0y = 0.0\n",
            "m: 1.0548020098585347 c = -0.01909265946598637\n",
            "Sample 2 x = 0.33y = 0.33\n",
            "m: 1.0548352737335527 c = -0.018991859844719374\n",
            "Sample 3 x = 0.67y = 0.67\n",
            "m: 1.0536461729052498 c = -0.020766637200395472\n",
            "ITERATION : 81\n",
            "Sample 1 x = 0.0y = 0.0\n",
            "m: 1.0536461729052498 c = -0.018689973480355924\n",
            "Sample 2 x = 0.33y = 0.33\n",
            "m: 1.0536787352071633 c = -0.018591299838193576\n",
            "Sample 3 x = 0.67y = 0.67\n",
            "m: 1.0525147138728728 c = -0.020328645113254155\n",
            "ITERATION : 82\n",
            "Sample 1 x = 0.0y = 0.0\n",
            "m: 1.0525147138728728 c = -0.01829578060192874\n",
            "Sample 2 x = 0.33y = 0.33\n",
            "m: 1.0525465893986607 c = -0.018199188099540665\n",
            "Sample 3 x = 0.67y = 0.67\n",
            "m: 1.0514071186032241 c = -0.019899890779296873\n",
            "ITERATION : 83\n",
            "Sample 1 x = 0.0y = 0.0\n",
            "m: 1.0514071186032241 c = -0.017909901701367185\n",
            "Sample 2 x = 0.33y = 0.33\n",
            "m: 1.05143832183778 c = -0.017815346445136864\n",
            "Sample 3 x = 0.67y = 0.67\n",
            "m: 1.0503228837823062 c = -0.019480179363754447\n",
            "ITERATION : 84\n",
            "Sample 1 x = 0.0y = 0.0\n",
            "m: 1.0503228837823062 c = -0.017532161427379\n",
            "Sample 2 x = 0.33y = 0.33\n",
            "m: 1.0503534289050205 c = -0.017439600449457207\n",
            "Sample 3 x = 0.67y = 0.67\n",
            "m: 1.0492615167115877 c = -0.019069320141147858\n",
            "ITERATION : 85\n",
            "Sample 1 x = 0.0y = 0.0\n",
            "m: 1.0492615167115877 c = -0.017162388127033072\n",
            "Sample 2 x = 0.33y = 0.33\n",
            "m: 1.0492914176027905 c = -0.01707177936581216\n",
            "Sample 3 x = 0.67y = 0.67\n",
            "m: 1.0482225350841108 c = -0.018667126408617913\n",
            "ITERATION : 86\n",
            "Sample 1 x = 0.0y = 0.0\n",
            "m: 1.0482225350841108 c = -0.016800413767756123\n",
            "Sample 2 x = 0.33y = 0.33\n",
            "m: 1.0482518053313807 c = -0.016711716048756167\n",
            "Sample 3 x = 0.67y = 0.67\n",
            "m: 1.0472054667653217 c = -0.018273415401083057\n",
            "ITERATION : 87\n",
            "Sample 1 x = 0.0y = 0.0\n",
            "m: 1.0472054667653217 c = -0.016446073860974752\n",
            "Sample 2 x = 0.33y = 0.33\n",
            "m: 1.0472341196696595 c = -0.016359246878132894\n",
            "Sample 3 x = 0.67y = 0.67\n",
            "m: 1.0462098495785235 c = -0.017888008208186795\n",
            "ITERATION : 88\n",
            "Sample 1 x = 0.0y = 0.0\n",
            "m: 1.0462098495785235 c = -0.016099207387368114\n",
            "Sample 2 x = 0.33y = 0.33\n",
            "m: 1.0462378981603966 c = -0.016014211684722578\n",
            "Sample 3 x = 0.67y = 0.67\n",
            "m: 1.0452352310948527 c = -0.017510729692996888\n",
            "ITERATION : 89\n",
            "Sample 1 x = 0.0y = 0.0\n",
            "m: 1.0452352310948527 c = -0.0157596567236972\n",
            "Sample 2 x = 0.33y = 0.33\n",
            "m: 1.0452626881001117 c = -0.015676453677457618\n",
            "Sample 3 x = 0.67y = 0.67\n",
            "m: 1.0442811684276874 c = -0.01714140841241934\n",
            "ITERATION : 90\n",
            "Sample 1 x = 0.0y = 0.0\n",
            "m: 1.0442811684276874 c = -0.015427267571177405\n",
            "Sample 2 x = 0.33y = 0.33\n",
            "m: 1.0443080463333587 c = -0.015345819372173348\n",
            "Sample 3 x = 0.67y = 0.67\n",
            "m: 1.0433472280313898 c = -0.01677987653929105\n",
            "ITERATION : 91\n",
            "Sample 1 x = 0.0y = 0.0\n",
            "m: 1.0433472280313898 c = -0.015101888885361944\n",
            "Sample 2 x = 0.33y = 0.33\n",
            "m: 1.043373539051345 c = -0.015022158521861615\n",
            "Sample 3 x = 0.67y = 0.67\n",
            "m: 1.0424329855042949 c = -0.016425969786115567\n",
            "ITERATION : 92\n",
            "Sample 1 x = 0.0y = 0.0\n",
            "m: 1.0424329855042949 c = -0.014783372807504011\n",
            "Sample 2 x = 0.33y = 0.33\n",
            "m: 1.0424587415948008 c = -0.014705324048395339\n",
            "Sample 3 x = 0.67y = 0.67\n",
            "m: 1.0415380253958526 c = -0.016079527330407455\n",
            "ITERATION : 93\n",
            "Sample 1 x = 0.0y = 0.0\n",
            "m: 1.0415380253958526 c = -0.014471574597366709\n",
            "Sample 2 x = 0.33y = 0.33\n",
            "m: 1.041563238261005 c = -0.014395171975693176\n",
            "Sample 3 x = 0.67y = 0.67\n",
            "m: 1.04066194101784 c = -0.015740391741611192\n",
            "ITERATION : 94\n",
            "Sample 1 x = 0.0y = 0.0\n",
            "m: 1.04066194101784 c = -0.014166352567450073\n",
            "Sample 2 x = 0.33y = 0.33\n",
            "m: 1.0406866221148816 c = -0.014091561364293785\n",
            "Sample 3 x = 0.67y = 0.67\n",
            "m: 1.0398043342595522 c = -0.015408408909561471\n",
            "ITERATION : 95\n",
            "Sample 1 x = 0.0y = 0.0\n",
            "m: 1.0398043342595522 c = -0.013867568018605324\n",
            "Sample 2 x = 0.33y = 0.33\n",
            "m: 1.0398284948040797 c = -0.013794354247310014\n",
            "Sample 3 x = 0.67y = 0.67\n",
            "m: 1.0389648154068942 c = -0.015083427974452357\n",
            "ITERATION : 96\n",
            "Sample 1 x = 0.0y = 0.0\n",
            "m: 1.0389648154068942 c = -0.013575085177007121\n",
            "Sample 2 x = 0.33y = 0.33\n",
            "m: 1.0389884663779543 c = -0.01350341556773392\n",
            "Sample 3 x = 0.67y = 0.67\n",
            "m: 1.038143002965286 c = -0.014765301258283469\n",
            "ITERATION : 97\n",
            "Sample 1 x = 0.0y = 0.0\n",
            "m: 1.038143002965286 c = -0.013288771132455121\n",
            "Sample 2 x = 0.33y = 0.33\n",
            "m: 1.0381661551103651 c = -0.013218613117064047\n",
            "Sample 3 x = 0.67y = 0.67\n",
            "m: 1.0373385234863042 c = -0.01445388419775211\n",
            "ITERATION : 98\n",
            "Sample 1 x = 0.0y = 0.0\n",
            "m: 1.0373385234863042 c = -0.013008495777976898\n",
            "Sample 2 x = 0.33y = 0.33\n",
            "m: 1.0373611873262116 c = -0.012939817475227247\n",
            "Sample 3 x = 0.67y = 0.67\n",
            "m: 1.0365510113979781 c = -0.014149035278560707\n",
            "ITERATION : 99\n",
            "Sample 1 x = 0.0y = 0.0\n",
            "m: 1.0365510113979781 c = -0.012734131750704637\n",
            "Sample 2 x = 0.33y = 0.33\n",
            "m: 1.0365731972316274 c = -0.012666901951767453\n",
            "Sample 3 x = 0.67y = 0.67\n",
            "m: 1.035780108838668 c = -0.013850615971109748\n",
            "ITERATION : 100\n",
            "Sample 1 x = 0.0y = 0.0\n",
            "m: 1.035780108838668 c = -0.012465554373998773\n",
            "Sample 2 x = 0.33y = 0.33\n",
            "m: 1.035801826747757 c = -0.012399742528274938\n",
            "Sample 3 x = 0.67y = 0.67\n",
            "m: 1.0350254654944444 c = -0.013558490667547161\n",
            "ITERATION : 101\n",
            "Sample 1 x = 0.0y = 0.0\n",
            "m: 1.0350254654944444 c = -0.012202641600792445\n",
            "Sample 2 x = 0.33y = 0.33\n",
            "m: 1.035046725348036 c = -0.01213821780202987\n",
            "Sample 3 x = 0.67y = 0.67\n",
            "m: 1.0342867384398986 c = -0.013272526620145293\n",
            "ITERATION : 102\n",
            "Sample 1 x = 0.0y = 0.0\n",
            "m: 1.0342867384398986 c = -0.011945273958130763\n",
            "Sample 2 x = 0.33y = 0.33\n",
            "m: 1.0343075498989065 c = -0.011882208930834342\n",
            "Sample 3 x = 0.67y = 0.67\n",
            "m: 1.0335635919823105 c = -0.012992593880977638\n",
            "ITERATION : 103\n",
            "Sample 1 x = 0.0y = 0.0\n",
            "m: 1.0335635919823105 c = -0.011693334492879874\n",
            "Sample 2 x = 0.33y = 0.33\n",
            "m: 1.0335839645038882 c = -0.011631599579008136\n",
            "Sample 3 x = 0.67y = 0.67\n",
            "m: 1.0328556975091023 c = -0.012718565242867835\n",
            "ITERATION : 104\n",
            "Sample 1 x = 0.0y = 0.0\n",
            "m: 1.0328556975091023 c = -0.01144670871858105\n",
            "Sample 2 x = 0.33y = 0.33\n",
            "m: 1.0328756403509414 c = -0.011386275864523322\n",
            "Sample 3 x = 0.67y = 0.67\n",
            "m: 1.0321627333385106 c = -0.012450316181584056\n",
            "ITERATION : 105\n",
            "Sample 1 x = 0.0y = 0.0\n",
            "m: 1.0321627333385106 c = -0.011205284563425651\n",
            "Sample 2 x = 0.33y = 0.33\n",
            "m: 1.0321822555630473 c = -0.011146126307253939\n",
            "Sample 3 x = 0.67y = 0.67\n",
            "m: 1.031484384573408 c = -0.012187724799252717\n",
            "ITERATION : 106\n",
            "Sample 1 x = 0.0y = 0.0\n",
            "m: 1.031484384573408 c = -0.010968952319327445\n",
            "Sample 2 x = 0.33y = 0.33\n",
            "m: 1.0315034950519415 c = -0.010911041778317167\n",
            "Sample 3 x = 0.67y = 0.67\n",
            "m: 1.030820342958207 c = -0.011930671768965529\n",
            "ITERATION : 107\n",
            "Sample 1 x = 0.0y = 0.0\n",
            "m: 1.030820342958207 c = -0.010737604592068975\n",
            "Sample 2 x = 0.33y = 0.33\n",
            "m: 1.0308390503749305 c = -0.01068091545048291\n",
            "Sample 3 x = 0.67y = 0.67\n",
            "m: 1.0301703067387822 c = -0.011679040280554965\n",
            "ITERATION : 108\n",
            "Sample 1 x = 0.0y = 0.0\n",
            "m: 1.0301703067387822 c = -0.010511136252499468\n",
            "Sample 2 x = 0.33y = 0.33\n",
            "m: 1.0301886195947294 c = -0.010455642749629335\n",
            "Sample 3 x = 0.67y = 0.67\n",
            "m: 1.0295339805253472 c = -0.011432715987513272\n",
            "ITERATION : 109\n",
            "Sample 1 x = 0.0y = 0.0\n",
            "m: 1.0295339805253472 c = -0.010289444388761945\n",
            "Sample 2 x = 0.33y = 0.33\n",
            "m: 1.0295519071422552 c = -0.010235121307222208\n",
            "Sample 3 x = 0.67y = 0.67\n",
            "m: 1.0289110751582233 c = -0.011191586955031082\n",
            "ITERATION : 110\n",
            "Sample 1 x = 0.0y = 0.0\n",
            "m: 1.0289110751582233 c = -0.010072428259527973\n",
            "Sample 2 x = 0.33y = 0.33\n",
            "m: 1.0289286236823147 c = -0.010019250913796547\n",
            "Sample 3 x = 0.67y = 0.67\n",
            "m: 1.02830130757644 c = -0.010955543609131983\n",
            "ITERATION : 111\n",
            "Sample 1 x = 0.0y = 0.0\n",
            "m: 1.02830130757644 c = -0.009859989248218784\n",
            "Sample 2 x = 0.33y = 0.33\n",
            "m: 1.0283184859821237 c = -0.009807933473419427\n",
            "Sample 3 x = 0.67y = 0.67\n",
            "m: 1.0277044006891052 c = -0.010724478686879771\n",
            "ITERATION : 112\n",
            "Sample 1 x = 0.0y = 0.0\n",
            "m: 1.0277044006891052 c = -0.009652030818191795\n",
            "Sample 2 x = 0.33y = 0.33\n",
            "m: 1.027721216782601 c = -0.009601072959113088\n",
            "Sample 3 x = 0.67y = 0.67\n",
            "m: 1.0271200832494907 c = -0.010498287187636055\n",
            "ITERATION : 113\n",
            "Sample 1 x = 0.0y = 0.0\n",
            "m: 1.0271200832494907 c = -0.00944845846887245\n",
            "Sample 2 x = 0.33y = 0.33\n",
            "m: 1.0271365446723766 c = -0.009398575369218395\n",
            "Sample 3 x = 0.67y = 0.67\n",
            "m: 1.0265480897317711 c = -0.010276866325345788\n",
            "ITERATION : 114\n",
            "Sample 1 x = 0.0y = 0.0\n",
            "m: 1.0265480897317711 c = -0.00924917969281121\n",
            "Sample 2 x = 0.33y = 0.33\n",
            "m: 1.026564203964455 c = -0.009200348684678537\n",
            "Sample 3 x = 0.67y = 0.67\n",
            "m: 1.025988160210364 c = -0.010060115481829158\n",
            "ITERATION : 115\n",
            "Sample 1 x = 0.0y = 0.0\n",
            "m: 1.025988160210364 c = -0.009054103933646243\n",
            "Sample 2 x = 0.33y = 0.33\n",
            "m: 1.0260039345754834 c = -0.00900630282722363\n",
            "Sample 3 x = 0.67y = 0.67\n",
            "m: 1.025440040241814 c = -0.009847936161058661\n",
            "ITERATION : 116\n",
            "Sample 1 x = 0.0y = 0.0\n",
            "m: 1.025440040241814 c = -0.008863142544952796\n",
            "Sample 2 x = 0.33y = 0.33\n",
            "m: 1.025455481907564 c = -0.00881634961843738\n",
            "Sample 3 x = 0.67y = 0.67\n",
            "m: 1.0249034807491688 c = -0.009640231944400432\n",
            "ITERATION : 117\n",
            "Sample 1 x = 0.0y = 0.0\n",
            "m: 1.0249034807491688 c = -0.008676208749960388\n",
            "Sample 2 x = 0.33y = 0.33\n",
            "m: 1.0249185967325591 c = -0.00863040273968692\n",
            "Sample 3 x = 0.67y = 0.67\n",
            "m: 1.0243782379087936 c = -0.009436908446799694\n",
            "ITERATION : 118\n",
            "Sample 1 x = 0.0y = 0.0\n",
            "m: 1.0243782379087936 c = -0.008493217602119725\n",
            "Sample 2 x = 0.33y = 0.33\n",
            "m: 1.0243930350788368 c = -0.008448377692897937\n",
            "Sample 3 x = 0.67y = 0.67\n",
            "m: 1.023864073039572 c = -0.009237873273890211\n",
            "ITERATION : 119\n",
            "Sample 1 x = 0.0y = 0.0\n",
            "m: 1.023864073039572 c = -0.00831408594650119\n",
            "Sample 2 x = 0.33y = 0.33\n",
            "m: 1.0238785581204057 c = -0.00827019176215695\n",
            "Sample 3 x = 0.67y = 0.67\n",
            "m: 1.0233607524944452 c = -0.009043035980008435\n",
            "ITERATION : 120\n",
            "Sample 1 x = 0.0y = 0.0\n",
            "m: 1.0233607524944452 c = -0.008138732382007591\n",
            "Sample 2 x = 0.33y = 0.33\n",
            "m: 1.023374932068387 c = -0.008095763976123526\n",
            "Sample 3 x = 0.67y = 0.67\n",
            "m: 1.0228680475542373 c = -0.008852308027093095\n",
            "---------------------------------------------------------------\n",
            "Optimal Values\n",
            "m = 1.0228680475542373\n",
            "c = -0.008852308027093095\n"
          ],
          "name": "stdout"
        }
      ]
    },
    {
      "cell_type": "code",
      "metadata": {
        "colab": {
          "base_uri": "https://localhost:8080/",
          "height": 173
        },
        "id": "oulmTEzmgxCv",
        "outputId": "baa69c17-4a5c-43f6-d347-ba0979cab5e4"
      },
      "source": [
        "df_norm"
      ],
      "execution_count": 256,
      "outputs": [
        {
          "output_type": "execute_result",
          "data": {
            "text/html": [
              "<div>\n",
              "<style scoped>\n",
              "    .dataframe tbody tr th:only-of-type {\n",
              "        vertical-align: middle;\n",
              "    }\n",
              "\n",
              "    .dataframe tbody tr th {\n",
              "        vertical-align: top;\n",
              "    }\n",
              "\n",
              "    .dataframe thead th {\n",
              "        text-align: right;\n",
              "    }\n",
              "</style>\n",
              "<table border=\"1\" class=\"dataframe\">\n",
              "  <thead>\n",
              "    <tr style=\"text-align: right;\">\n",
              "      <th></th>\n",
              "      <th>sample</th>\n",
              "      <th>x</th>\n",
              "      <th>y</th>\n",
              "    </tr>\n",
              "  </thead>\n",
              "  <tbody>\n",
              "    <tr>\n",
              "      <th>0</th>\n",
              "      <td>1</td>\n",
              "      <td>0.000000</td>\n",
              "      <td>0.000000</td>\n",
              "    </tr>\n",
              "    <tr>\n",
              "      <th>1</th>\n",
              "      <td>2</td>\n",
              "      <td>0.333333</td>\n",
              "      <td>0.333333</td>\n",
              "    </tr>\n",
              "    <tr>\n",
              "      <th>2</th>\n",
              "      <td>3</td>\n",
              "      <td>0.666667</td>\n",
              "      <td>0.666667</td>\n",
              "    </tr>\n",
              "    <tr>\n",
              "      <th>3</th>\n",
              "      <td>4</td>\n",
              "      <td>1.000000</td>\n",
              "      <td>1.000000</td>\n",
              "    </tr>\n",
              "  </tbody>\n",
              "</table>\n",
              "</div>"
            ],
            "text/plain": [
              "   sample         x         y\n",
              "0       1  0.000000  0.000000\n",
              "1       2  0.333333  0.333333\n",
              "2       3  0.666667  0.666667\n",
              "3       4  1.000000  1.000000"
            ]
          },
          "metadata": {
            "tags": []
          },
          "execution_count": 256
        }
      ]
    },
    {
      "cell_type": "markdown",
      "metadata": {
        "id": "SxCqKP2wgrka"
      },
      "source": [
        "**DENORMALIZING**"
      ]
    },
    {
      "cell_type": "code",
      "metadata": {
        "id": "RvONeCB_gkWD"
      },
      "source": [
        "def denormalize_fun(df):\n",
        "  df_denormal = df.copy()\n",
        "  #apply min max scaling\n",
        "  ct=0\n",
        "  for column in df_denormal.columns:\n",
        "    if ct==0: #to skip normalization for the sample number column\n",
        "      ct=1\n",
        "    else:\n",
        "      df_denormal[column]=(df[column])*(df_denormal[column].max()-df_denormal[column].min())+(df_denormal[column].min())\n",
        "  return df_denormal\n",
        "\n",
        "res_df = denormalize_fun(df_norm)"
      ],
      "execution_count": 257,
      "outputs": []
    },
    {
      "cell_type": "markdown",
      "metadata": {
        "id": "tQtEjsSrkAl5"
      },
      "source": [
        "**ORIGINAL DATASET**"
      ]
    },
    {
      "cell_type": "code",
      "metadata": {
        "colab": {
          "base_uri": "https://localhost:8080/",
          "height": 173
        },
        "id": "IesgbEFWj8j_",
        "outputId": "2cf37bfb-e723-4f62-8b37-c0d233ed85fd"
      },
      "source": [
        "df"
      ],
      "execution_count": 258,
      "outputs": [
        {
          "output_type": "execute_result",
          "data": {
            "text/html": [
              "<div>\n",
              "<style scoped>\n",
              "    .dataframe tbody tr th:only-of-type {\n",
              "        vertical-align: middle;\n",
              "    }\n",
              "\n",
              "    .dataframe tbody tr th {\n",
              "        vertical-align: top;\n",
              "    }\n",
              "\n",
              "    .dataframe thead th {\n",
              "        text-align: right;\n",
              "    }\n",
              "</style>\n",
              "<table border=\"1\" class=\"dataframe\">\n",
              "  <thead>\n",
              "    <tr style=\"text-align: right;\">\n",
              "      <th></th>\n",
              "      <th>sample</th>\n",
              "      <th>x</th>\n",
              "      <th>y</th>\n",
              "    </tr>\n",
              "  </thead>\n",
              "  <tbody>\n",
              "    <tr>\n",
              "      <th>0</th>\n",
              "      <td>1</td>\n",
              "      <td>0.2</td>\n",
              "      <td>3.4</td>\n",
              "    </tr>\n",
              "    <tr>\n",
              "      <th>1</th>\n",
              "      <td>2</td>\n",
              "      <td>0.4</td>\n",
              "      <td>3.8</td>\n",
              "    </tr>\n",
              "    <tr>\n",
              "      <th>2</th>\n",
              "      <td>3</td>\n",
              "      <td>0.6</td>\n",
              "      <td>4.2</td>\n",
              "    </tr>\n",
              "    <tr>\n",
              "      <th>3</th>\n",
              "      <td>4</td>\n",
              "      <td>0.8</td>\n",
              "      <td>4.6</td>\n",
              "    </tr>\n",
              "  </tbody>\n",
              "</table>\n",
              "</div>"
            ],
            "text/plain": [
              "   sample    x    y\n",
              "0       1  0.2  3.4\n",
              "1       2  0.4  3.8\n",
              "2       3  0.6  4.2\n",
              "3       4  0.8  4.6"
            ]
          },
          "metadata": {
            "tags": []
          },
          "execution_count": 258
        }
      ]
    },
    {
      "cell_type": "markdown",
      "metadata": {
        "id": "xIxH8y-gkGIF"
      },
      "source": [
        "**CALCULATING THE TRAINING ERROR**"
      ]
    },
    {
      "cell_type": "markdown",
      "metadata": {
        "id": "vXNCUuE2mOfe"
      },
      "source": [
        "Train and test datasets"
      ]
    },
    {
      "cell_type": "code",
      "metadata": {
        "id": "cE3xymePkyYQ"
      },
      "source": [
        "x_train = df.iloc[0:3,1:2]\n",
        "y_train = df.iloc[0:3,2:]\n",
        "x_test = df.iloc[3:,1:2]\n",
        "y_test = df.iloc[3:,2:]"
      ],
      "execution_count": 259,
      "outputs": []
    },
    {
      "cell_type": "code",
      "metadata": {
        "colab": {
          "base_uri": "https://localhost:8080/",
          "height": 142
        },
        "id": "jxnB-YHZmFhW",
        "outputId": "e80bcc48-2985-4a2b-c843-66b787eb9f20"
      },
      "source": [
        "x_train"
      ],
      "execution_count": 260,
      "outputs": [
        {
          "output_type": "execute_result",
          "data": {
            "text/html": [
              "<div>\n",
              "<style scoped>\n",
              "    .dataframe tbody tr th:only-of-type {\n",
              "        vertical-align: middle;\n",
              "    }\n",
              "\n",
              "    .dataframe tbody tr th {\n",
              "        vertical-align: top;\n",
              "    }\n",
              "\n",
              "    .dataframe thead th {\n",
              "        text-align: right;\n",
              "    }\n",
              "</style>\n",
              "<table border=\"1\" class=\"dataframe\">\n",
              "  <thead>\n",
              "    <tr style=\"text-align: right;\">\n",
              "      <th></th>\n",
              "      <th>x</th>\n",
              "    </tr>\n",
              "  </thead>\n",
              "  <tbody>\n",
              "    <tr>\n",
              "      <th>0</th>\n",
              "      <td>0.2</td>\n",
              "    </tr>\n",
              "    <tr>\n",
              "      <th>1</th>\n",
              "      <td>0.4</td>\n",
              "    </tr>\n",
              "    <tr>\n",
              "      <th>2</th>\n",
              "      <td>0.6</td>\n",
              "    </tr>\n",
              "  </tbody>\n",
              "</table>\n",
              "</div>"
            ],
            "text/plain": [
              "     x\n",
              "0  0.2\n",
              "1  0.4\n",
              "2  0.6"
            ]
          },
          "metadata": {
            "tags": []
          },
          "execution_count": 260
        }
      ]
    },
    {
      "cell_type": "code",
      "metadata": {
        "colab": {
          "base_uri": "https://localhost:8080/",
          "height": 142
        },
        "id": "C-g0S5vHnl_y",
        "outputId": "3ba32f0c-6219-45ad-aac3-baf38dab6533"
      },
      "source": [
        "y_train"
      ],
      "execution_count": 261,
      "outputs": [
        {
          "output_type": "execute_result",
          "data": {
            "text/html": [
              "<div>\n",
              "<style scoped>\n",
              "    .dataframe tbody tr th:only-of-type {\n",
              "        vertical-align: middle;\n",
              "    }\n",
              "\n",
              "    .dataframe tbody tr th {\n",
              "        vertical-align: top;\n",
              "    }\n",
              "\n",
              "    .dataframe thead th {\n",
              "        text-align: right;\n",
              "    }\n",
              "</style>\n",
              "<table border=\"1\" class=\"dataframe\">\n",
              "  <thead>\n",
              "    <tr style=\"text-align: right;\">\n",
              "      <th></th>\n",
              "      <th>y</th>\n",
              "    </tr>\n",
              "  </thead>\n",
              "  <tbody>\n",
              "    <tr>\n",
              "      <th>0</th>\n",
              "      <td>3.4</td>\n",
              "    </tr>\n",
              "    <tr>\n",
              "      <th>1</th>\n",
              "      <td>3.8</td>\n",
              "    </tr>\n",
              "    <tr>\n",
              "      <th>2</th>\n",
              "      <td>4.2</td>\n",
              "    </tr>\n",
              "  </tbody>\n",
              "</table>\n",
              "</div>"
            ],
            "text/plain": [
              "     y\n",
              "0  3.4\n",
              "1  3.8\n",
              "2  4.2"
            ]
          },
          "metadata": {
            "tags": []
          },
          "execution_count": 261
        }
      ]
    },
    {
      "cell_type": "code",
      "metadata": {
        "colab": {
          "base_uri": "https://localhost:8080/"
        },
        "id": "c6NdAlAWoW9k",
        "outputId": "63ace85a-2ae7-44c6-c253-58e684a6c691"
      },
      "source": [
        "print(\"m and c values after applying SGD Algo:\")\n",
        "print(m)\n",
        "print(c)"
      ],
      "execution_count": 262,
      "outputs": [
        {
          "output_type": "stream",
          "text": [
            "m and c values after applying SGD Algo:\n",
            "2.2054170084884834\n",
            "2.912263028069261\n"
          ],
          "name": "stdout"
        }
      ]
    },
    {
      "cell_type": "code",
      "metadata": {
        "colab": {
          "base_uri": "https://localhost:8080/"
        },
        "id": "ySlASbc5nnFG",
        "outputId": "d74f7df6-2fd5-4eec-e3fe-e119c74d86a1"
      },
      "source": [
        "y_train_pred = []\n",
        "for i in range(0,len(x_train)):\n",
        "  ycalc = m*x_train['x'][i]+c\n",
        "  y_train_pred.append(ycalc)\n",
        "y_train_pred"
      ],
      "execution_count": 263,
      "outputs": [
        {
          "output_type": "execute_result",
          "data": {
            "text/plain": [
              "[3.3533464297669577, 3.7944298314646545, 4.235513233162351]"
            ]
          },
          "metadata": {
            "tags": []
          },
          "execution_count": 263
        }
      ]
    },
    {
      "cell_type": "code",
      "metadata": {
        "id": "h2mhUatdpSNm"
      },
      "source": [
        "y_train_list = list(y_train['y']) #typecasting tuple to list"
      ],
      "execution_count": 264,
      "outputs": []
    },
    {
      "cell_type": "code",
      "metadata": {
        "colab": {
          "base_uri": "https://localhost:8080/"
        },
        "id": "ycdH7EfTqtHa",
        "outputId": "4226863b-373b-4ef5-e58b-228d0b7de8f2"
      },
      "source": [
        "y_train_list"
      ],
      "execution_count": 265,
      "outputs": [
        {
          "output_type": "execute_result",
          "data": {
            "text/plain": [
              "[3.4, 3.8, 4.2]"
            ]
          },
          "metadata": {
            "tags": []
          },
          "execution_count": 265
        }
      ]
    },
    {
      "cell_type": "code",
      "metadata": {
        "colab": {
          "base_uri": "https://localhost:8080/"
        },
        "id": "Y0FsebQxquzP",
        "outputId": "e4ccfd43-3711-4585-9385-40b8ca914c85"
      },
      "source": [
        "MSError_train = []\n",
        "for i in range(0,len(x_train)):\n",
        "  mse_train = (y_train_list[i]-y_train_pred[i])\n",
        "  MSError_train.append(mse_train)\n",
        "\n",
        "print('MSE - TRAINING ERROR obtained:')\n",
        "MSError_train\n"
      ],
      "execution_count": 277,
      "outputs": [
        {
          "output_type": "stream",
          "text": [
            "MSE - TRAINING ERROR obtained:\n"
          ],
          "name": "stdout"
        },
        {
          "output_type": "execute_result",
          "data": {
            "text/plain": [
              "[0.046653570233042174, 0.00557016853534531, -0.035513233162350666]"
            ]
          },
          "metadata": {
            "tags": []
          },
          "execution_count": 277
        }
      ]
    },
    {
      "cell_type": "markdown",
      "metadata": {
        "id": "MyEOuJPYtXCe"
      },
      "source": [
        "**CALCULATING TESTING ERROR**"
      ]
    },
    {
      "cell_type": "code",
      "metadata": {
        "colab": {
          "base_uri": "https://localhost:8080/"
        },
        "id": "JRnb93hItgPx",
        "outputId": "0f8e8910-5acc-4e6d-c348-49c96858e4e8"
      },
      "source": [
        "y_test_pred = []\n",
        "for i in range(3,4):\n",
        "  ycalc = m*x_test['x'][i]+c\n",
        "  y_test_pred.append(ycalc)\n",
        "y_test_pred"
      ],
      "execution_count": 278,
      "outputs": [
        {
          "output_type": "execute_result",
          "data": {
            "text/plain": [
              "[4.676596634860048]"
            ]
          },
          "metadata": {
            "tags": []
          },
          "execution_count": 278
        }
      ]
    },
    {
      "cell_type": "code",
      "metadata": {
        "colab": {
          "base_uri": "https://localhost:8080/",
          "height": 80
        },
        "id": "7IDHNmGxtvmQ",
        "outputId": "bfae0774-a276-4052-a2cc-1226301f84d2"
      },
      "source": [
        "y_test"
      ],
      "execution_count": 279,
      "outputs": [
        {
          "output_type": "execute_result",
          "data": {
            "text/html": [
              "<div>\n",
              "<style scoped>\n",
              "    .dataframe tbody tr th:only-of-type {\n",
              "        vertical-align: middle;\n",
              "    }\n",
              "\n",
              "    .dataframe tbody tr th {\n",
              "        vertical-align: top;\n",
              "    }\n",
              "\n",
              "    .dataframe thead th {\n",
              "        text-align: right;\n",
              "    }\n",
              "</style>\n",
              "<table border=\"1\" class=\"dataframe\">\n",
              "  <thead>\n",
              "    <tr style=\"text-align: right;\">\n",
              "      <th></th>\n",
              "      <th>y</th>\n",
              "    </tr>\n",
              "  </thead>\n",
              "  <tbody>\n",
              "    <tr>\n",
              "      <th>3</th>\n",
              "      <td>4.6</td>\n",
              "    </tr>\n",
              "  </tbody>\n",
              "</table>\n",
              "</div>"
            ],
            "text/plain": [
              "     y\n",
              "3  4.6"
            ]
          },
          "metadata": {
            "tags": []
          },
          "execution_count": 279
        }
      ]
    },
    {
      "cell_type": "code",
      "metadata": {
        "colab": {
          "base_uri": "https://localhost:8080/",
          "height": 80
        },
        "id": "Dov87O7bwGJ-",
        "outputId": "fe5f4ef4-e658-45ab-a42b-d984649f91c3"
      },
      "source": [
        "x_test"
      ],
      "execution_count": 280,
      "outputs": [
        {
          "output_type": "execute_result",
          "data": {
            "text/html": [
              "<div>\n",
              "<style scoped>\n",
              "    .dataframe tbody tr th:only-of-type {\n",
              "        vertical-align: middle;\n",
              "    }\n",
              "\n",
              "    .dataframe tbody tr th {\n",
              "        vertical-align: top;\n",
              "    }\n",
              "\n",
              "    .dataframe thead th {\n",
              "        text-align: right;\n",
              "    }\n",
              "</style>\n",
              "<table border=\"1\" class=\"dataframe\">\n",
              "  <thead>\n",
              "    <tr style=\"text-align: right;\">\n",
              "      <th></th>\n",
              "      <th>x</th>\n",
              "    </tr>\n",
              "  </thead>\n",
              "  <tbody>\n",
              "    <tr>\n",
              "      <th>3</th>\n",
              "      <td>0.8</td>\n",
              "    </tr>\n",
              "  </tbody>\n",
              "</table>\n",
              "</div>"
            ],
            "text/plain": [
              "     x\n",
              "3  0.8"
            ]
          },
          "metadata": {
            "tags": []
          },
          "execution_count": 280
        }
      ]
    },
    {
      "cell_type": "code",
      "metadata": {
        "colab": {
          "base_uri": "https://localhost:8080/"
        },
        "id": "7LhvSMMbwHW9",
        "outputId": "c56e5288-0b91-4398-db7c-933213ee7ae1"
      },
      "source": [
        "print(\"m and c values after applying SGD Algo:\")\n",
        "print(m)\n",
        "print(c)"
      ],
      "execution_count": 281,
      "outputs": [
        {
          "output_type": "stream",
          "text": [
            "m and c values after applying SGD Algo:\n",
            "2.2054170084884834\n",
            "2.912263028069261\n"
          ],
          "name": "stdout"
        }
      ]
    },
    {
      "cell_type": "code",
      "metadata": {
        "colab": {
          "base_uri": "https://localhost:8080/"
        },
        "id": "OF97rA_CwnI3",
        "outputId": "019c98e0-5a1b-4e82-cd5a-695490b53a66"
      },
      "source": [
        "x_test['x'][3]"
      ],
      "execution_count": 282,
      "outputs": [
        {
          "output_type": "execute_result",
          "data": {
            "text/plain": [
              "0.8"
            ]
          },
          "metadata": {
            "tags": []
          },
          "execution_count": 282
        }
      ]
    },
    {
      "cell_type": "code",
      "metadata": {
        "id": "asFKP9m2wgn_"
      },
      "source": [
        "y_test_list = list(y_test['y']) #typecasting tuple to list"
      ],
      "execution_count": 284,
      "outputs": []
    },
    {
      "cell_type": "code",
      "metadata": {
        "colab": {
          "base_uri": "https://localhost:8080/"
        },
        "id": "DLbLHk3txWBs",
        "outputId": "604f63a6-2b4c-4582-f6f9-e22ce205872a"
      },
      "source": [
        "y_test_list"
      ],
      "execution_count": 285,
      "outputs": [
        {
          "output_type": "execute_result",
          "data": {
            "text/plain": [
              "[4.6]"
            ]
          },
          "metadata": {
            "tags": []
          },
          "execution_count": 285
        }
      ]
    },
    {
      "cell_type": "code",
      "metadata": {
        "colab": {
          "base_uri": "https://localhost:8080/"
        },
        "id": "HhIzIONYxidz",
        "outputId": "fda9ff32-f4fa-4a48-d5df-a72cbdde6562"
      },
      "source": [
        "MSError_test = []\n",
        "for i in range(0,len(x_test)):\n",
        "  mse_test = (y_test_list[i]-y_test_pred[i])\n",
        "  MSError_test.append(mse_test)\n",
        "\n",
        "\n",
        "print('MSE - TESTING ERROR obtained:')\n",
        "MSError_test"
      ],
      "execution_count": 286,
      "outputs": [
        {
          "output_type": "stream",
          "text": [
            "MSE - TESTING ERROR obtained:\n"
          ],
          "name": "stdout"
        },
        {
          "output_type": "execute_result",
          "data": {
            "text/plain": [
              "[-0.07659663486004842]"
            ]
          },
          "metadata": {
            "tags": []
          },
          "execution_count": 286
        }
      ]
    },
    {
      "cell_type": "markdown",
      "metadata": {
        "id": "OtYuz08ByOfO"
      },
      "source": [
        "**As Training and Testing error approximately = 0. we can conclude the optimal m and c values obtained by applying SGD Algo**"
      ]
    },
    {
      "cell_type": "markdown",
      "metadata": {
        "id": "4t9Xq5gqybh8"
      },
      "source": [
        "**We can deploy and run this in backend through Flask App**\n",
        "\n",
        "**BUT FOR TRIAL LETS TAKE USER INPUT (SIMPLE PYTHON)**"
      ]
    },
    {
      "cell_type": "code",
      "metadata": {
        "colab": {
          "base_uri": "https://localhost:8080/"
        },
        "id": "xuVLGg8BxvpT",
        "outputId": "b9fcdc76-ba5e-4578-be9f-90ad5c4d1ef2"
      },
      "source": [
        "print(\"EQUATION is y=mx+c\")\n",
        "x = float(input('Enter x value to predict y value'))\n",
        "y = m*x+c\n",
        "print('Predicted y value: {}'.format(y))"
      ],
      "execution_count": 288,
      "outputs": [
        {
          "output_type": "stream",
          "text": [
            "EQUATION is y=mx+c\n",
            "Enter x value to predict y value1.8\n",
            "Predicted y value: 6.882013643348531\n"
          ],
          "name": "stdout"
        }
      ]
    }
  ]
}